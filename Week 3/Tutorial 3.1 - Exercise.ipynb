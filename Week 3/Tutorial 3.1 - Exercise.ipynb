{
 "cells": [
  {
   "cell_type": "markdown",
   "metadata": {},
   "source": [
    "# Tutorial 3: PINN Exercise\n",
    "\n",
    "We will try to model this physical system.\n",
    "\n",
    "<div style=\"text-align: center; margin:2rem;\">\n",
    "    <img src=\"oscillator.gif\">\n",
    "</div>\n",
    "\n",
    "This system is described by the following relations:\n",
    "\n",
    "<div style=\"text-align: center; margin:2rem; background-color:white;\">\n",
    "    <img src=\"oscillator-eqn.svg\" height=\"100px\">\n",
    "</div>\n",
    "\n"
   ]
  },
  {
   "cell_type": "markdown",
   "metadata": {},
   "source": [
    "## 1. Define the system parameters and exact solution (for model evaluation)"
   ]
  },
  {
   "cell_type": "markdown",
   "metadata": {},
   "source": [
    "#### Import necessary Libraries (*this is complete*)"
   ]
  },
  {
   "cell_type": "code",
   "execution_count": null,
   "metadata": {},
   "outputs": [],
   "source": [
    "import torch\n",
    "import torch.nn as nn\n",
    "import numpy as np\n",
    "import matplotlib.pyplot as plt"
   ]
  },
  {
   "cell_type": "markdown",
   "metadata": {},
   "source": [
    "#### Define system parameters (*this is complete*)"
   ]
  },
  {
   "cell_type": "code",
   "execution_count": null,
   "metadata": {},
   "outputs": [],
   "source": [
    "# System model\n",
    "def exact_solution(d, w0, t):\n",
    "    w = np.sqrt(w0**2 - d**2)\n",
    "    phi = np.arctan(-d/w)\n",
    "    A = 1/(2*np.cos(phi))\n",
    "    cos = torch.cos(phi+w*t)\n",
    "    exp = torch.exp(-d*t)\n",
    "    u = exp*2*A*cos\n",
    "    return u\n",
    "\n",
    "\n",
    "# Create noisy observations\n",
    "torch.manual_seed(123)\n",
    "d = 2\n",
    "w0 = 20\n",
    "k = w0**2\n",
    "t_obs = torch.rand(40).view(-1, 1) * 0.4\n",
    "u_obs = exact_solution(d, w0, t_obs) + 0.04 *torch.randn_like(t_obs)\n",
    "\n",
    "t_test = torch.linspace(0, 1, 300).view(-1, 1)\n",
    "u_exact = exact_solution(d, w0, t_test)\n",
    "\n",
    "# plot the data\n",
    "def plot_observed_data():\n",
    "    plt.scatter(t_obs, u_obs, label='Observed data', color='red')\n",
    "    plt.plot(t_test, u_exact, label='Exact solution', color='grey', alpha=0.6)\n",
    "    plt.legend()\n",
    "    plt.show()\n",
    "\n",
    "plot_observed_data()"
   ]
  },
  {
   "cell_type": "markdown",
   "metadata": {},
   "source": [
    "## 2. Neural Network model"
   ]
  },
  {
   "cell_type": "code",
   "execution_count": null,
   "metadata": {},
   "outputs": [],
   "source": [
    "# create neural network class\n",
    "class NN(nn.Module):\n",
    "    def __init__(self, n_input, n_output, n_hidden, n_layers, act_fn=nn.Tanh()):\n",
    "        super().__init__()\n",
    "        # TODO: define the network architecture\n",
    "\n",
    "\n",
    "    # define the forward pass of the network\n",
    "    def forward(self, x):\n",
    "        # TODO: define the forward pass\n",
    "        pass # remove this line when you implement your code\n",
    "\n",
    "\n",
    "    # define the fit method\n",
    "    def fit(self, X, y, n_epochs, lr=0.01):\n",
    "\n",
    "        # TODO: define the optimizer and loss function\n",
    "\n",
    "        # train the model\n",
    "        for epoch in range(n_epochs + 1):\n",
    "            # TODO: implement steps for training the model\n",
    "\n",
    "            # plot the result as training progresses\n",
    "            if epoch % 2000 == 0:\n",
    "                y_pred = self.forward(t_test).detach()\n",
    "                plt.figure(figsize=(12, 4))\n",
    "                plt.title(f'Train step {epoch}')\n",
    "                plt.plot(t_test[:,0], y_pred[:,0], label='NN solution', color='blue', alpha=0.6)\n",
    "                plot_observed_data()\n",
    "\n",
    "\n",
    "# TODO: create an instance of the NN class and train it\n",
    "\n"
   ]
  },
  {
   "cell_type": "markdown",
   "metadata": {},
   "source": [
    "## 3. PINN model"
   ]
  },
  {
   "cell_type": "code",
   "execution_count": null,
   "metadata": {},
   "outputs": [],
   "source": [
    "# create neural network class\n",
    "class PINN(nn.Module):\n",
    "    # define the class constructor\n",
    "    def __init__(self, n_input, n_output, n_hidden, n_layers, act_fn=nn.Tanh()):\n",
    "        super().__init__()\n",
    "        # TODO: define the network architecture\n",
    "\n",
    "\n",
    "    # define the forward pass of the network\n",
    "    def forward(self, x):\n",
    "        # TODO: define the forward pass\n",
    "        pass # remove this line when you implement your code\n",
    "\n",
    "\n",
    "    # define the fit method\n",
    "    def fit(self, X, y, n_epochs, lr=0.01):\n",
    "\n",
    "        # TODO: define the optimizer and loss function\n",
    "\n",
    "        # TODO: define the physical parameters (i.e. range, and regularization parameters)\n",
    "\n",
    "        # train the model\n",
    "        for epoch in range(n_epochs + 1):\n",
    "            # TODO: implement steps for training the model including the physics-informed loss\n",
    "\n",
    "            # plot the result as training progresses\n",
    "            if epoch % 5000 == 0:\n",
    "                y_pred = self.forward(t_test).detach()\n",
    "                plt.figure(figsize=(12, 4))\n",
    "                plt.title(f'Train step {epoch}')\n",
    "                plt.plot(t_test[:,0], y_pred[:,0], label='PINN solution', color='blue', alpha=0.6)\n",
    "                plot_observed_data()\n",
    "\n",
    "# TODO: create an instance of the PINN class and train it\n"
   ]
  },
  {
   "cell_type": "markdown",
   "metadata": {},
   "source": [
    "<hr style=\"margin-top: 4rem;\">\n",
    "<h2>Author</h2>\n",
    "\n",
    "<a href=\"https://github.com/SamerHany\">Samer Hany</a>"
   ]
  },
  {
   "cell_type": "markdown",
   "metadata": {},
   "source": [
    "<h2>References</h2>\n",
    "\n",
    "https://benmoseley.blog/my-research/so-what-is-a-physics-informed-neural-network/  \n",
    "https://medium.com/@theo.wolf/physics-informed-neural-networks-a-simple-tutorial-with-pytorch-f28a890b874a"
   ]
  }
 ],
 "metadata": {
  "kernelspec": {
   "display_name": "Python 3",
   "language": "python",
   "name": "python3"
  },
  "language_info": {
   "codemirror_mode": {
    "name": "ipython",
    "version": 3
   },
   "file_extension": ".py",
   "mimetype": "text/x-python",
   "name": "python",
   "nbconvert_exporter": "python",
   "pygments_lexer": "ipython3",
   "version": "3.11.4"
  }
 },
 "nbformat": 4,
 "nbformat_minor": 2
}
