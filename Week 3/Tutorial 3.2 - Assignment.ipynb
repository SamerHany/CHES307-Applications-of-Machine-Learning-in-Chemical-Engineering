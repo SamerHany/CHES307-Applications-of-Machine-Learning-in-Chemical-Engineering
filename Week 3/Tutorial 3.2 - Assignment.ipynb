{
 "cells": [
  {
   "cell_type": "markdown",
   "metadata": {},
   "source": [
    "# Tutorial 3: PINN Assignment\n",
    "\n"
   ]
  },
  {
   "cell_type": "markdown",
   "metadata": {},
   "source": [
    "The task of this assignment is to model product concentration in a batch reactor using both blackbox NN and a physics-informed NN and compare the results.\n",
    "\n",
    "Consider the following system of consecutive first-order reactions:\n",
    "\n",
    "<div style=\"text-align: center; margin:2rem;\">\n",
    "    <img src=\"r1.png\">\n",
    "</div>\n",
    "\n",
    "The rate equations for the 3 components are as follows:\n",
    "\n",
    "<div style=\"text-align: center; margin:2rem;\">\n",
    "    <img src=\"r2.png\">\n",
    "</div>\n",
    "\n",
    "The typical concentration profiles for this system of reactions are shown below:\n",
    "\n",
    "<div style=\"text-align: center; margin:2rem;\">\n",
    "    <img src=\"r3.png\">\n",
    "</div>\n",
    "\n",
    "### Objective\n",
    "It is required to model the concentration profile of component **R**.  \n",
    "Consider the reaction rate constants **k1** & **k2** as unkown parameters to be learned when training the PINN and print their results.\n"
   ]
  },
  {
   "cell_type": "markdown",
   "metadata": {},
   "source": [
    "## 1. Define the system parameters and exact solution (for model evaluation)"
   ]
  },
  {
   "cell_type": "markdown",
   "metadata": {},
   "source": [
    "#### Import necessary Libraries (*this is complete*)"
   ]
  },
  {
   "cell_type": "code",
   "execution_count": null,
   "metadata": {},
   "outputs": [],
   "source": [
    "import torch\n",
    "import torch.nn as nn\n",
    "import numpy as np\n",
    "import matplotlib.pyplot as plt"
   ]
  },
  {
   "cell_type": "markdown",
   "metadata": {},
   "source": [
    "#### Define system parameters (*this is complete*)"
   ]
  },
  {
   "cell_type": "code",
   "execution_count": null,
   "metadata": {},
   "outputs": [],
   "source": [
    "# System model\n",
    "def exact_solution(c_a0, k1, k2, t):\n",
    "    c_r = c_a0 * k1 * (torch.exp(-k1 * t) - torch.exp(-k2 * t)) / (k2 - k1)\n",
    "    return c_r\n",
    "\n",
    "# Create noisy observations\n",
    "torch.manual_seed(12)\n",
    "c_a0 = 5\n",
    "k1 = 0.5\n",
    "k2 = 0.1\n",
    "t_obs = torch.rand(50).view(-1, 1) * 3\n",
    "y_obs = exact_solution(c_a0, k1, k2, t_obs) + 0.1 *torch.randn_like(t_obs)\n",
    "\n",
    "t_test = torch.linspace(0, 20, 100).view(-1, 1)\n",
    "y_exact = exact_solution(c_a0, k1, k2, t_test)\n",
    "\n",
    "# plot the data\n",
    "def plot_observed_data():\n",
    "    plt.scatter(t_obs, y_obs, label='Observed data', color='red')\n",
    "    plt.plot(t_test, y_exact, label='Exact solution', color='grey', alpha=0.6)\n",
    "    plt.legend()\n",
    "    plt.show()\n",
    "\n",
    "\n",
    "# helper functions to calculate c_a & c_s profiles\n",
    "def calc_s_a(c_a0, k1, k2, t):\n",
    "    c_a = c_a0 * torch.exp(-k1 * t)\n",
    "    return c_a\n",
    "\n",
    "def calc_s_c(c_a0, k1, k2, t):\n",
    "    c_a = calc_s_a(c_a0, k1, k2, t)\n",
    "    c_r = exact_solution(c_a0, k1, k2, t)\n",
    "    c_s = c_a0 - c_a - c_r\n",
    "    return c_s\n",
    "\n",
    "# plot c_a & c_s profiles\n",
    "plt.plot(t_test, calc_s_a(c_a0, k1, k2, t_test), label='c_a')\n",
    "plt.plot(t_test, calc_s_c(c_a0, k1, k2, t_test), label='c_s')\n",
    "plt.title('Concentration profiles')\n",
    "plt.xlabel('Time')\n",
    "plt.ylabel('Concentration')\n",
    "plot_observed_data()"
   ]
  },
  {
   "cell_type": "markdown",
   "metadata": {},
   "source": [
    "## 2. Neural Network model"
   ]
  },
  {
   "cell_type": "code",
   "execution_count": 3,
   "metadata": {},
   "outputs": [],
   "source": [
    "# create neural network class\n",
    "class NN(nn.Module):\n",
    "    def __init__(self, n_input, n_output, n_hidden, n_layers, act_fn=nn.Tanh()):\n",
    "        super().__init__()\n",
    "        # TODO: define the network architecture\n",
    "\n",
    "\n",
    "    # define the forward pass of the network\n",
    "    def forward(self, x):\n",
    "        # TODO: define the forward pass\n",
    "        pass # remove this line when you implement your code\n",
    "\n",
    "\n",
    "    # define the fit method\n",
    "    def fit(self, X, y, n_epochs, lr=0.01):\n",
    "\n",
    "        # TODO: define the optimizer and loss function\n",
    "\n",
    "        # train the model\n",
    "        for epoch in range(n_epochs + 1):\n",
    "            # TODO: implement steps for training the model\n",
    "\n",
    "            # plot the result as training progresses\n",
    "            if epoch % 2000 == 0:\n",
    "                y_pred = self.forward(t_test).detach()\n",
    "                plt.figure(figsize=(12, 4))\n",
    "                plt.title(f'Train step {epoch}')\n",
    "                plt.plot(t_test[:,0], y_pred[:,0], label='NN solution', color='blue', alpha=0.6)\n",
    "                plot_observed_data()\n",
    "\n",
    "\n",
    "# TODO: create an instance of the NN class and train it\n",
    "\n"
   ]
  },
  {
   "cell_type": "markdown",
   "metadata": {},
   "source": [
    "## 3. PINN model"
   ]
  },
  {
   "cell_type": "code",
   "execution_count": null,
   "metadata": {},
   "outputs": [],
   "source": [
    "# create neural network class\n",
    "class PINN(nn.Module):\n",
    "    # define the class constructor\n",
    "    def __init__(self, n_input, n_output, n_hidden, n_layers, act_fn=nn.Tanh()):\n",
    "        super().__init__()\n",
    "        # TODO: define the network architecture\n",
    "\n",
    "\n",
    "    # define the forward pass of the network\n",
    "    def forward(self, x):\n",
    "        # TODO: define the forward pass\n",
    "        pass # remove this line when you implement your code\n",
    "\n",
    "\n",
    "    # define the fit method\n",
    "    def fit(self, X, y, n_epochs, lr=0.01):\n",
    "\n",
    "        # TODO: define the optimizer and loss function\n",
    "\n",
    "        # TODO: define the physical parameters (i.e. range, and regularization parameters)\n",
    "\n",
    "        # train the model\n",
    "        for epoch in range(n_epochs + 1):\n",
    "            # TODO: implement steps for training the model including the physics-informed loss\n",
    "\n",
    "            # plot the result as training progresses\n",
    "            if epoch % 5000 == 0:\n",
    "                y_pred = self.forward(t_test).detach()\n",
    "                plt.figure(figsize=(12, 4))\n",
    "                plt.title(f'Train step {epoch}')\n",
    "                plt.plot(t_test[:,0], y_pred[:,0], label='PINN solution', color='blue', alpha=0.6)\n",
    "                plot_observed_data()\n",
    "\n",
    "# TODO: create an instance of the PINN class and train it\n"
   ]
  },
  {
   "cell_type": "markdown",
   "metadata": {},
   "source": [
    "<details>\n",
    "    <summary>Hint 💡</summary>\n",
    "    <ul>\n",
    "        <li>Try different number of neurons and hidden layers</li>\n",
    "        <li>Try different learning rates</li>\n",
    "        <li>Try different regularization weights for the physical and data losses</li>\n",
    "    </ul>\n",
    "</details>"
   ]
  },
  {
   "cell_type": "markdown",
   "metadata": {},
   "source": [
    "<hr style=\"margin-top: 4rem;\">\n",
    "<h2>Author</h2>\n",
    "\n",
    "<a href=\"https://github.com/SamerHany\">Samer Hany</a>"
   ]
  },
  {
   "cell_type": "markdown",
   "metadata": {},
   "source": [
    "<h2>References</h2>\n",
    "\n",
    "* Levenspiel Octave, 1999, Chemical Reaction Engineering, 3rd Edition. New York: John Wiley and Sons  \n",
    "* https://benmoseley.blog/my-research/so-what-is-a-physics-informed-neural-network/  \n",
    "\n"
   ]
  }
 ],
 "metadata": {
  "kernelspec": {
   "display_name": "Python 3",
   "language": "python",
   "name": "python3"
  },
  "language_info": {
   "codemirror_mode": {
    "name": "ipython",
    "version": 3
   },
   "file_extension": ".py",
   "mimetype": "text/x-python",
   "name": "python",
   "nbconvert_exporter": "python",
   "pygments_lexer": "ipython3",
   "version": "3.11.4"
  }
 },
 "nbformat": 4,
 "nbformat_minor": 2
}
