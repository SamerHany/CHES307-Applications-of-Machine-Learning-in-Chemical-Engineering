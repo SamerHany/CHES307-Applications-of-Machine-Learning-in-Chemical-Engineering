{
 "cells": [
  {
   "cell_type": "markdown",
   "metadata": {},
   "source": [
    "# Scikit-learn Basics for Chemical Engineers\n",
    "\n",
    "## Objectives\n",
    "\n",
    "After this tutorial you will be able to:\n",
    "- Understand the difference between fit, transform, and fit_transform\n",
    "- Learn how to preprocess data properly\n",
    "- Understand and create simple pipelines\n",
    "- Apply these concepts to chemical engineering problems\n",
    "\n",
    "## Table of Contents\n",
    "1. [Setup and Data Creation](#1)\n",
    "2. [Understanding Fit, Transform, and Fit_Transform](#2)\n",
    "3. [Basic Preprocessing Steps](#3)\n",
    "4. [Pipelines vs. Step-by-Step Approach](#4)\n",
    "5. [Complete Example: Predicting Reaction Yield](#5)\n",
    "\n",
    "<hr id=\"1\">\n",
    "<h3> 1. Setup and Data Creation </h3>"
   ]
  },
  {
   "cell_type": "code",
   "execution_count": 1,
   "metadata": {},
   "outputs": [
    {
     "name": "stdout",
     "output_type": "stream",
     "text": [
      "Sample of our chemical process data:\n",
      "   Temperature  Pressure  Concentration      Yield\n",
      "0    53.090509  1.125717       1.319860  17.040085\n",
      "1    96.303573  3.545642       0.259866  26.472131\n",
      "2    79.899546  2.257424       0.407095  35.344616\n",
      "3    69.899386  3.034283       1.807253  25.649894\n",
      "4    36.701398  4.630266       1.252215   2.436867\n",
      "\n",
      "Data statistics:\n",
      "       Temperature    Pressure  Concentration       Yield\n",
      "count   100.000000  100.000000     100.000000  100.000000\n",
      "mean     60.263556    2.991327       1.083443   19.568192\n",
      "std      22.311706    1.172445       0.557510    8.773435\n",
      "min      25.414159    1.027809       0.109617    2.436867\n",
      "25%      39.490057    1.968018       0.626072   12.553707\n",
      "50%      59.810684    3.022499       1.168854   19.512261\n",
      "75%      79.765234    4.064734       1.529497   24.997789\n",
      "max      99.016520    4.942602       1.981102   40.478389\n"
     ]
    }
   ],
   "source": [
    "# Import necessary libraries\n",
    "import numpy as np\n",
    "import pandas as pd\n",
    "from sklearn.preprocessing import StandardScaler, MinMaxScaler\n",
    "from sklearn.pipeline import Pipeline\n",
    "from sklearn.model_selection import train_test_split\n",
    "from sklearn.linear_model import LinearRegression\n",
    "\n",
    "# Create sample chemical process data\n",
    "np.random.seed(42)\n",
    "n_samples = 100\n",
    "\n",
    "# Create features: temperature (°C), pressure (atm), concentration (mol/L)\n",
    "temperature = np.random.uniform(25, 100, n_samples)\n",
    "pressure = np.random.uniform(1, 5, n_samples)\n",
    "concentration = np.random.uniform(0.1, 2.0, n_samples)\n",
    "\n",
    "# Create target: reaction yield (%)\n",
    "yield_percent = (0.3 * temperature + 0.2 * pressure + 0.5 * concentration + \n",
    "                np.random.normal(0, 5, n_samples))\n",
    "\n",
    "# Create DataFrame\n",
    "data = pd.DataFrame({\n",
    "    'Temperature': temperature,\n",
    "    'Pressure': pressure,\n",
    "    'Concentration': concentration,\n",
    "    'Yield': yield_percent\n",
    "})\n",
    "\n",
    "print(\"Sample of our chemical process data:\")\n",
    "print(data.head())\n",
    "print(\"\\nData statistics:\")\n",
    "print(data.describe())"
   ]
  },
  {
   "cell_type": "markdown",
   "metadata": {},
   "source": [
    "<hr id=\"2\">\n",
    "<h3> 2. Understanding Fit, Transform, and Fit_Transform </h3>\n",
    "\n",
    "In scikit-learn, there are three fundamental operations:\n",
    "\n",
    "1. **fit**: Learn parameters from the data (e.g., mean and standard deviation)\n",
    "2. **transform**: Apply the learned parameters to transform the data\n",
    "3. **fit_transform**: Combine both operations in one step\n",
    "\n",
    "### Fit: Transformers vs. Models\n",
    "\n",
    "The `fit()` method serves different purposes depending on whether it's used with:\n",
    "\n",
    "- **Transformers** (like StandardScaler, PCA): The `fit()` method calculates statistical parameters from the data (like mean, standard deviation, principal components) but doesn't change the data itself. These parameters are stored and later used during transformation.\n",
    "\n",
    "- **Models** (like LinearRegression, RandomForest): The `fit()` method learns the actual predictive model parameters (like coefficients, weights, decision boundaries) that minimize error on the training data. Here, `fit()` is where the actual learning happens.\n",
    "\n",
    "### Transform and Fit_Transform\n",
    "\n",
    "- **transform()**: Only available for transformer objects, not models. It applies the previously learned parameters to transform new data.\n",
    "\n",
    "- **fit_transform()**: A convenience method for transformers that combines fitting and transforming in one step. This is more efficient than calling `fit()` and `transform()` separately.\n",
    "\n",
    "Let's see these in action with a simple scaling example:"
   ]
  },
  {
   "cell_type": "code",
   "execution_count": 2,
   "metadata": {},
   "outputs": [],
   "source": [
    "# Create training and testing sets\n",
    "X = data[['Temperature', 'Pressure', 'Concentration']]\n",
    "y = data['Yield']\n",
    "X_train, X_test, y_train, y_test = train_test_split(X, y, test_size=0.2, random_state=42)"
   ]
  },
  {
   "cell_type": "code",
   "execution_count": 3,
   "metadata": {},
   "outputs": [
    {
     "name": "stdout",
     "output_type": "stream",
     "text": [
      "StandardScaler()\n"
     ]
    }
   ],
   "source": [
    "# 1. Using fit() and transform() separately\n",
    "scaler = StandardScaler()\n",
    "# First, fit the scaler to learn the parameters\n",
    "\n",
    "scaler.fit(X_train)\n",
    "print(scaler)"
   ]
  },
  {
   "cell_type": "code",
   "execution_count": 4,
   "metadata": {},
   "outputs": [
    {
     "name": "stdout",
     "output_type": "stream",
     "text": [
      "Method 1: Separate fit and transform\n",
      "Learned parameters:\n",
      "Mean values: [60.10739213  3.01804136  1.0774205 ]\n",
      "Standard deviations: [21.8425181   1.15064412  0.55130053]\n",
      "\n",
      "First few scaled training samples:\n",
      "   Temperature  Pressure  Concentration\n",
      "0     1.558116 -0.912376       0.146022\n",
      "1     1.439100  0.087395      -0.785401\n",
      "2    -0.921682  1.089840       1.580444\n",
      "3    -1.489217 -0.025244       1.380049\n",
      "4     1.781348  0.300293      -0.761102\n"
     ]
    }
   ],
   "source": [
    "# Then, transform the data\n",
    "X_train_scaled = scaler.transform(X_train)\n",
    "X_test_scaled = scaler.transform(X_test)\n",
    "\n",
    "print(\"Method 1: Separate fit and transform\")\n",
    "print(\"Learned parameters:\")\n",
    "print(\"Mean values:\", scaler.mean_)\n",
    "print(\"Standard deviations:\", scaler.scale_)\n",
    "print(\"\\nFirst few scaled training samples:\")\n",
    "print(pd.DataFrame(X_train_scaled, columns=X.columns).head())"
   ]
  },
  {
   "cell_type": "code",
   "execution_count": 5,
   "metadata": {},
   "outputs": [
    {
     "name": "stdout",
     "output_type": "stream",
     "text": [
      "\n",
      "Method 2: Combined fit_transform\n",
      "First few scaled training samples:\n",
      "   Temperature  Pressure  Concentration\n",
      "0     1.558116 -0.912376       0.146022\n",
      "1     1.439100  0.087395      -0.785401\n",
      "2    -0.921682  1.089840       1.580444\n",
      "3    -1.489217 -0.025244       1.380049\n",
      "4     1.781348  0.300293      -0.761102\n"
     ]
    }
   ],
   "source": [
    "# 2. Using fit_transform() in one step (for training data only)\n",
    "scaler_combined = StandardScaler()\n",
    "X_train_scaled_combined = scaler_combined.fit_transform(X_train)\n",
    "\n",
    "print(\"\\nMethod 2: Combined fit_transform\")\n",
    "print(\"First few scaled training samples:\")\n",
    "print(pd.DataFrame(X_train_scaled_combined, columns=X.columns).head())\n",
    "\n",
    "# Note: Results are identical, but Method 2 is more concise"
   ]
  },
  {
   "cell_type": "markdown",
   "metadata": {},
   "source": [
    "### Important Notes:\n",
    "\n",
    "1. Always `fit` on training data only\n",
    "2. Use `transform` for both training and test data\n",
    "3. `fit_transform` is a convenience method for training data\n",
    "4. Never use `fit_transform` on test data (would cause data leakage)\n",
    "\n",
    "<hr id=\"3\">\n",
    "<h3> 3. Basic Preprocessing Steps </h3>\n",
    "\n",
    "Let's look at different types of scaling and when to use them:"
   ]
  },
  {
   "cell_type": "code",
   "execution_count": 6,
   "metadata": {},
   "outputs": [
    {
     "name": "stdout",
     "output_type": "stream",
     "text": [
      "Comparing different scaling methods:\n",
      "     Original  StandardScaler  MinMaxScaler\n",
      "55  94.140568        1.558116      0.933753\n",
      "88  91.540956        1.439100      0.898433\n",
      "26  39.975534       -0.921682      0.197838\n",
      "42  27.579139       -1.489217      0.029415\n",
      "69  99.016520        1.781348      1.000000\n",
      "\n",
      "Key differences:\n",
      "- StandardScaler: Mean=0, STD=1\n",
      "- MinMaxScaler: Range=[0,1]\n"
     ]
    }
   ],
   "source": [
    "# Compare StandardScaler and MinMaxScaler\n",
    "standard_scaler = StandardScaler()\n",
    "minmax_scaler = MinMaxScaler()\n",
    "\n",
    "# Apply both scalers to our temperature data\n",
    "temp_standard = standard_scaler.fit_transform(X_train[['Temperature']].values)\n",
    "temp_minmax = minmax_scaler.fit_transform(X_train[['Temperature']].values)\n",
    "\n",
    "# Create comparison DataFrame\n",
    "comparison = pd.DataFrame({\n",
    "    'Original': X_train['Temperature'].head(),\n",
    "    'StandardScaler': temp_standard.flatten()[:5],\n",
    "    'MinMaxScaler': temp_minmax.flatten()[:5]\n",
    "})\n",
    "\n",
    "print(\"Comparing different scaling methods:\")\n",
    "print(comparison)\n",
    "print(\"\\nKey differences:\")\n",
    "print(\"- StandardScaler: Mean=0, STD=1\")\n",
    "print(\"- MinMaxScaler: Range=[0,1]\")"
   ]
  },
  {
   "cell_type": "markdown",
   "metadata": {},
   "source": [
    "<hr id=\"4\">\n",
    "<h3> 4. Pipelines vs. Step-by-Step Approach </h3>\n",
    "\n",
    "Now let's compare doing preprocessing and modeling step-by-step versus using a pipeline:"
   ]
  },
  {
   "cell_type": "code",
   "execution_count": 7,
   "metadata": {},
   "outputs": [
    {
     "name": "stdout",
     "output_type": "stream",
     "text": [
      "Method 1: Step by Step Approach\n",
      "Test set predictions (first 5):\n",
      "[ 9.79994418 30.82289378 29.71882615 25.39126273 12.87852515]\n"
     ]
    }
   ],
   "source": [
    "# Method 1: Step by Step\n",
    "print(\"Method 1: Step by Step Approach\")\n",
    "# 1. Scale the features\n",
    "scaler = StandardScaler()\n",
    "X_train_scaled = scaler.fit_transform(X_train)\n",
    "X_test_scaled = scaler.transform(X_test)\n",
    "\n",
    "# 2. Create and train the model\n",
    "model = LinearRegression()\n",
    "model.fit(X_train_scaled, y_train)\n",
    "\n",
    "# 3. Make predictions\n",
    "y_pred = model.predict(X_test_scaled)\n",
    "\n",
    "print(\"Test set predictions (first 5):\")\n",
    "print(y_pred[:5])"
   ]
  },
  {
   "cell_type": "markdown",
   "metadata": {},
   "source": [
    "#### Method 2: Using Pipelines\n",
    "\n",
    "Pipelines in scikit-learn are a powerful tool that allows you to chain multiple preprocessing steps and a final estimator into a single object. They help streamline your machine learning workflow by:\n",
    "\n",
    "1. **Simplifying Code**: Combine multiple steps into a single, cohesive object\n",
    "2. **Preventing Data Leakage**: Ensure preprocessing steps are properly applied to training and test data separately\n",
    "3. **Improving Organization**: Keep all preprocessing and modeling steps in a logical sequence\n",
    "4. **Enabling Easy Parameter Tuning**: Allow grid search across all pipeline components simultaneously\n",
    "5. **Facilitating Model Deployment**: Package all preprocessing and model steps into one exportable object\n",
    "\n",
    "The pipeline below will automatically apply the scaler to data before passing it to the regressor, both during training and prediction.\n"
   ]
  },
  {
   "cell_type": "code",
   "execution_count": 8,
   "metadata": {},
   "outputs": [
    {
     "name": "stdout",
     "output_type": "stream",
     "text": [
      "\n",
      "Method 2: Pipeline Approach\n",
      "Test set predictions (first 5):\n",
      "[ 9.79994418 30.82289378 29.71882615 25.39126273 12.87852515]\n",
      "\n",
      "Results are identical: True\n"
     ]
    }
   ],
   "source": [
    "\n",
    "# Method 2: Using Pipeline\n",
    "print(\"\\nMethod 2: Pipeline Approach\")\n",
    "# Create pipeline\n",
    "pipeline = Pipeline([\n",
    "    ('scaler', StandardScaler()),\n",
    "    ('regressor', LinearRegression())\n",
    "])\n",
    "\n",
    "\n",
    "# Fit pipeline\n",
    "pipeline.fit(X_train, y_train)\n",
    "\n",
    "# Make predictions\n",
    "y_pred_pipeline = pipeline.predict(X_test)\n",
    "\n",
    "print(\"Test set predictions (first 5):\")\n",
    "print(y_pred_pipeline[:5])\n",
    "\n",
    "# Compare results\n",
    "print(\"\\nResults are identical:\", np.allclose(y_pred, y_pred_pipeline))"
   ]
  },
  {
   "cell_type": "markdown",
   "metadata": {},
   "source": [
    "### Advantages of Pipelines:\n",
    "\n",
    "1. **Cleaner Code**: All steps in one object\n",
    "2. **No Data Leakage**: Proper handling of train/test split\n",
    "3. **Easy to Save/Load**: Single object to save\n",
    "4. **Cross-Validation Ready**: Works directly with cross-validation\n",
    "\n",
    "<hr id=\"5\">\n",
    "<h3> 5. Complete Example: Predicting Reaction Yield </h3>\n",
    "\n",
    "Let's put everything together in a complete example:"
   ]
  },
  {
   "cell_type": "code",
   "execution_count": 9,
   "metadata": {},
   "outputs": [
    {
     "name": "stdout",
     "output_type": "stream",
     "text": [
      "Model Performance:\n",
      "Training R² Score: 0.760\n",
      "Testing R² Score: 0.329\n",
      "Test RMSE: 7.248\n"
     ]
    },
    {
     "data": {
      "image/png": "[encoded data removed]",
      "text/plain": [
       "<Figure size 1000x600 with 1 Axes>"
      ]
     },
     "metadata": {},
     "output_type": "display_data"
    },
    {
     "name": "stdout",
     "output_type": "stream",
     "text": [
      "\n",
      "Feature Importance:\n",
      "         Feature  Coefficient\n",
      "0    Temperature     7.519708\n",
      "2  Concentration     0.892555\n",
      "1       Pressure     0.835325\n"
     ]
    }
   ],
   "source": [
    "from sklearn.metrics import r2_score, mean_squared_error\n",
    "import matplotlib.pyplot as plt\n",
    "\n",
    "# Create a more complex pipeline\n",
    "reaction_pipeline = Pipeline([\n",
    "    ('scaler', StandardScaler()),\n",
    "    ('regressor', LinearRegression())\n",
    "])\n",
    "\n",
    "# Fit the pipeline\n",
    "reaction_pipeline.fit(X_train, y_train)\n",
    "\n",
    "# Make predictions\n",
    "y_train_pred = reaction_pipeline.predict(X_train)\n",
    "y_test_pred = reaction_pipeline.predict(X_test)\n",
    "\n",
    "# Calculate metrics\n",
    "train_r2 = r2_score(y_train, y_train_pred)\n",
    "test_r2 = r2_score(y_test, y_test_pred)\n",
    "test_rmse = np.sqrt(mean_squared_error(y_test, y_test_pred))\n",
    "\n",
    "print(\"Model Performance:\")\n",
    "print(f\"Training R² Score: {train_r2:.3f}\")\n",
    "print(f\"Testing R² Score: {test_r2:.3f}\")\n",
    "print(f\"Test RMSE: {test_rmse:.3f}\")\n",
    "\n",
    "# Plot actual vs predicted\n",
    "plt.figure(figsize=(10, 6))\n",
    "plt.scatter(y_test, y_test_pred, alpha=0.5)\n",
    "plt.plot([y_test.min(), y_test.max()], [y_test.min(), y_test.max()], 'r--', lw=2)\n",
    "plt.xlabel('Actual Yield (%)')\n",
    "plt.ylabel('Predicted Yield (%)')\n",
    "plt.title('Actual vs Predicted Reaction Yield')\n",
    "plt.tight_layout()\n",
    "plt.show()\n",
    "\n",
    "# Get feature importance\n",
    "coefficients = pd.DataFrame({\n",
    "    'Feature': X.columns,\n",
    "    'Coefficient': reaction_pipeline.named_steps['regressor'].coef_\n",
    "})\n",
    "print(\"\\nFeature Importance:\")\n",
    "print(coefficients.sort_values(by='Coefficient', ascending=False))"
   ]
  },
  {
   "cell_type": "markdown",
   "metadata": {},
   "source": [
    "### Key Takeaways:\n",
    "\n",
    "1. **Preprocessing**:\n",
    "   - Always fit preprocessors on training data only\n",
    "   - Use transform for both train and test data\n",
    "\n",
    "2. **Pipelines**:\n",
    "   - Keep preprocessing steps organized\n",
    "   - Prevent accidental data leakage\n",
    "   - Make code more maintainable\n",
    "\n",
    "3. **Best Practices**:\n",
    "   - Use `fit_transform()` for training data\n",
    "   - Use `transform()` for test data\n",
    "   - Consider pipelines for complex workflows"
   ]
  }
 ],
 "metadata": {
  "kernelspec": {
   "display_name": "Python 3",
   "language": "python",
   "name": "python3"
  },
  "language_info": {
   "codemirror_mode": {
    "name": "ipython",
    "version": 3
   },
   "file_extension": ".py",
   "mimetype": "text/x-python",
   "name": "python",
   "nbconvert_exporter": "python",
   "pygments_lexer": "ipython3",
   "version": "3.13.2"
  }
 },
 "nbformat": 4,
 "nbformat_minor": 2
}
