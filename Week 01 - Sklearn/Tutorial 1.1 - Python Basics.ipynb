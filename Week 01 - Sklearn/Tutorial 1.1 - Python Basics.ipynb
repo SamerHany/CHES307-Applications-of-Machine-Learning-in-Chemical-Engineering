{
 "cells": [
  {
   "cell_type": "markdown",
   "metadata": {},
   "source": [
    "# Python Basics for Chemical Engineers\n",
    "\n",
    "## Objectives\n",
    "\n",
    "After this tutorial you will be able to:\n",
    "\n",
    "- Understand basic Python data types and variables\n",
    "- Work with lists, tuples, and dictionaries\n",
    "- Create and use functions with different argument types\n",
    "- Understand the basics of classes and methods\n",
    "\n",
    "## Table of Contents\n",
    "1. [Basic Data Types](#1)\n",
    "2. [Lists in Detail](#2)\n",
    "3. [Tuples](#3)\n",
    "4. [Dictionaries](#4)\n",
    "5. [Functions and Arguments](#5)\n",
    "6. [Classes and Methods](#6)\n",
    "\n",
    "<hr id=\"1\">\n",
    "<h3> 1. Basic Data Types </h3>\n",
    "\n",
    "Python has several basic data types that we use frequently in chemical engineering calculations:\n",
    "\n",
    "- **int**: Whole numbers (e.g., number of reactors)\n",
    "- **float**: Decimal numbers (e.g., temperature, pressure)\n",
    "- **str**: Text (e.g., unit operations)\n",
    "- **bool**: True/False values (e.g., valve open/closed)"
   ]
  },
  {
   "cell_type": "code",
   "execution_count": 1,
   "metadata": {},
   "outputs": [
    {
     "name": "stdout",
     "output_type": "stream",
     "text": [
      "Number of reactors: 3, Type: <class 'int'>\n",
      "Temperature: 298.15K, Type: <class 'float'>\n",
      "Unit: distillation column, Type: <class 'str'>\n",
      "Is valve open? True, Type: <class 'bool'>\n"
     ]
    }
   ],
   "source": [
    "# Integer example\n",
    "num_reactors = 3\n",
    "print(f\"Number of reactors: {num_reactors}, Type: {type(num_reactors)}\")\n",
    "\n",
    "# Float example\n",
    "temperature = 298.15\n",
    "print(f\"Temperature: {temperature}K, Type: {type(temperature)}\")\n",
    "\n",
    "# String example\n",
    "unit = \"distillation column\"\n",
    "print(f\"Unit: {unit}, Type: {type(unit)}\")\n",
    "\n",
    "# Boolean example\n",
    "is_valve_open = True\n",
    "print(f\"Is valve open? {is_valve_open}, Type: {type(is_valve_open)}\")"
   ]
  },
  {
   "cell_type": "code",
   "execution_count": 8,
   "metadata": {},
   "outputs": [
    {
     "name": "stdout",
     "output_type": "stream",
     "text": [
      "\n",
      "Math with booleans:\n",
      "True + True = 2\n",
      "True + False = 1\n",
      "True * 5 = 5\n",
      "False * 10 = 0\n",
      "\n",
      "Boolean logic:\n",
      "AND: Both valves open? False\n",
      "OR: At least one valve open? True\n",
      "NOT: Valve 1 closed? False\n",
      "\n",
      "Number of open valves: 3\n"
     ]
    }
   ],
   "source": [
    "# Boolean operations and math with booleans\n",
    "# Booleans can be used in mathematical operations, where True = 1 and False = 0\n",
    "\n",
    "# Arithmetic with booleans\n",
    "print(\"\\nMath with booleans:\")\n",
    "print(\"True + True =\", True + True)  # 1 + 1 = 2\n",
    "print(\"True + False =\", True + False)  # 1 + 0 = 1\n",
    "print(\"True * 5 =\", True * 5)  # 1 * 5 = 5\n",
    "print(\"False * 10 =\", False * 10)  # 0 * 10 = 0\n",
    "\n",
    "# Boolean logic operations\n",
    "valve_1_open = True\n",
    "valve_2_open = False\n",
    "\n",
    "print(\"\\nBoolean logic:\")\n",
    "print(\"AND: Both valves open?\", valve_1_open and valve_2_open)  # False\n",
    "print(\"OR: At least one valve open?\", valve_1_open or valve_2_open)  # True\n",
    "print(\"NOT: Valve 1 closed?\", not valve_1_open)  # False\n",
    "\n",
    "# Counting True values in a list of booleans\n",
    "valve_states = [True, False, True, True, False]\n",
    "open_valves = sum(valve_states)  # Counts number of True values\n",
    "print(\"\\nNumber of open valves:\", open_valves)\n"
   ]
  },
  {
   "cell_type": "markdown",
   "metadata": {},
   "source": [
    "<hr id=\"2\">\n",
    "<h3> 2. Lists in Detail </h3>\n",
    "\n",
    "Lists are versatile data structures that can store multiple items of any type. They are:\n",
    "- Created using square brackets `[]`\n",
    "- **Mutable** (can be changed after creation)\n",
    "- Can contain mixed data types\n",
    "- Support indexing and slicing"
   ]
  },
  {
   "cell_type": "code",
   "execution_count": 10,
   "metadata": {},
   "outputs": [
    {
     "name": "stdout",
     "output_type": "stream",
     "text": [
      "Temperature readings: [25.0, 26.5, 28.0, 27.5]\n",
      "Reactor names: ['R-101', 'R-102', 'R-103']\n",
      "Mixed data: ['Reactor-1', 298.15, True, 3]\n",
      "\n",
      "Modified temperatures: [24.5, 25.0, 28.0, 27.5]\n",
      "Removed temperature: 29\n"
     ]
    }
   ],
   "source": [
    "# 1. Lists with different data types\n",
    "temperatures = [25.0, 26.5, 28.0, 27.5]  # list of floats\n",
    "reactor_names = [\"R-101\", \"R-102\", \"R-103\"]  # list of strings\n",
    "mixed_data = [\"Reactor-1\", 298.15, True, 3]  # mixed types\n",
    "\n",
    "print(\"Temperature readings:\", temperatures)\n",
    "print(\"Reactor names:\", reactor_names)\n",
    "print(\"Mixed data:\", mixed_data)\n",
    "\n",
    "# 2. List operations\n",
    "temperatures.append(29)  # Add new item\n",
    "temperatures.insert(0, 24.5)  # Insert at specific position\n",
    "temperatures.remove(26.5)  # Remove specific value\n",
    "last_temp = temperatures.pop()  # Remove and return last item\n",
    "\n",
    "# [24.5, 28, 27.5, 29]\n",
    "print(\"\\nModified temperatures:\", temperatures)\n",
    "print(\"Removed temperature:\", last_temp)"
   ]
  },
  {
   "cell_type": "code",
   "execution_count": 3,
   "metadata": {},
   "outputs": [
    {
     "name": "stdout",
     "output_type": "stream",
     "text": [
      "First three readings: [1, 2, 3]\n",
      "Last three readings: [8, 9, 10]\n",
      "Every second reading: [1, 3, 5, 7, 9]\n",
      "Reverse readings: [10, 9, 8, 7, 6, 5, 4, 3, 2, 1]\n",
      "Morning readings: [10, 8, 6, 4, 2]\n"
     ]
    }
   ],
   "source": [
    "# 3. List slicing\n",
    "readings = [1, 2, 3, 4, 5, 6, 7, 8, 9, 10]\n",
    "\n",
    "# Basic slicing: list[start:end:step]\n",
    "print(\"First three readings:\", readings[0:3])  # or readings[:3]\n",
    "print(\"Last three readings:\", readings[-3:])  \n",
    "print(\"Every second reading:\", readings[::2])\n",
    "print(\"Reverse readings:\", readings[::-1])\n",
    "\n",
    "# Subset of readings\n",
    "morning_readings = readings[::-2]\n",
    "print(\"Morning readings:\", morning_readings)"
   ]
  },
  {
   "cell_type": "code",
   "execution_count": 12,
   "metadata": {},
   "outputs": [
    {
     "name": "stdout",
     "output_type": "stream",
     "text": [
      "Pressure readings:\n",
      "The value of this measurement is: 1.0 and the unit is: atm\n",
      "The value of this measurement is: 1.2 and the unit is: atm\n",
      "The value of this measurement is: 0.9 and the unit is: atm\n"
     ]
    }
   ],
   "source": [
    "# 4. Lists of objects\n",
    "class Measurement:\n",
    "    def __init__(self, value, unit):\n",
    "        self.value = value\n",
    "        self.unit = unit\n",
    "    \n",
    "    def __str__(self):\n",
    "        return f\"{self.value} {self.unit}\"\n",
    "    \n",
    "    def print_value(self):\n",
    "        print(f\"The value of this measurement is: {self.value} and the unit is: {self.unit}\")\n",
    "\n",
    "# Create list of measurement objects\n",
    "pressure_readings = [\n",
    "    Measurement(1.0, \"atm\"),\n",
    "    Measurement(1.2, \"atm\"),\n",
    "    Measurement(0.9, \"atm\")\n",
    "]\n",
    "\n",
    "# Working with list of objects\n",
    "print(\"Pressure readings:\")\n",
    "for reading in pressure_readings:\n",
    "    reading.print_value()"
   ]
  },
  {
   "cell_type": "code",
   "execution_count": 11,
   "metadata": {},
   "outputs": [
    {
     "name": "stdout",
     "output_type": "stream",
     "text": [
      "\n",
      "Pressure values only: [1.0, 1.2, 0.9]\n"
     ]
    }
   ],
   "source": [
    "# Accessing object attributes in list\n",
    "pressure_values = [reading.value for reading in pressure_readings]\n",
    "print(\"\\nPressure values only:\", pressure_values)"
   ]
  },
  {
   "cell_type": "markdown",
   "metadata": {},
   "source": [
    "<hr id=\"3\">\n",
    "<h3> 3. Tuples </h3>\n",
    "\n",
    "Tuples are similar to lists but are immutable (cannot be changed after creation):\n",
    "- Created using parentheses `()`\n",
    "- Good for storing data that shouldn't change (e.g., physical constants)\n",
    "- Can be used as dictionary keys (unlike lists)"
   ]
  },
  {
   "cell_type": "code",
   "execution_count": 13,
   "metadata": {},
   "outputs": [
    {
     "name": "stdout",
     "output_type": "stream",
     "text": [
      "Standard conditions: (1.0, 298.15)\n",
      "Reactor specifications: ('PFR', 5.0, 2.0)\n",
      "\n",
      "Standard pressure: 1.0 atm\n",
      "Standard temperature: 298.15 K\n"
     ]
    }
   ],
   "source": [
    "# Tuple examples\n",
    "standard_conditions = (1.0, 298.15)  # (pressure in atm, temperature in K)\n",
    "reactor_spec = (\"PFR\", 5.0, 2.0)  # (type, volume in m³, length in m)\n",
    "\n",
    "print(\"Standard conditions:\", standard_conditions)\n",
    "print(\"Reactor specifications:\", reactor_spec)\n",
    "\n",
    "# Tuple unpacking\n",
    "pressure, temperature = standard_conditions\n",
    "reactor_type, volume, length = reactor_spec\n",
    "\n",
    "print(f\"\\nStandard pressure: {pressure} atm\")\n",
    "print(f\"Standard temperature: {temperature} K\")"
   ]
  },
  {
   "cell_type": "markdown",
   "metadata": {},
   "source": [
    "<hr id=\"4\">\n",
    "<h3> 4. Dictionaries </h3>\n",
    "\n",
    "Dictionaries are key-value pairs that allow us to store and retrieve data using meaningful keys:\n",
    "- Created using curly braces `{}`\n",
    "- Keys must be immutable (strings, numbers, tuples)\n",
    "- Values can be any type\n",
    "- Very useful for structured data"
   ]
  },
  {
   "cell_type": "code",
   "execution_count": 16,
   "metadata": {},
   "outputs": [
    {
     "name": "stdout",
     "output_type": "stream",
     "text": [
      "Temperature: 298.15\n"
     ]
    }
   ],
   "source": [
    "# 1. Basic dictionary usage\n",
    "reactor_conditions = {\n",
    "    \"temperature\": 298.15,\n",
    "    \"pressure\": 2.0,\n",
    "    \"flow_rate\": 100.0,\n",
    "    \"is_running\": True\n",
    "}\n",
    "\n",
    "print(\"Temperature:\", reactor_conditions[\"temperature\"])\n",
    "\n",
    "\n",
    "# Adding and modifying values\n",
    "reactor_conditions[\"catalyst\"] = \"Platinum\"\n",
    "reactor_conditions[\"temperature\"] = 303.15"
   ]
  },
  {
   "cell_type": "code",
   "execution_count": 17,
   "metadata": {},
   "outputs": [
    {
     "ename": "KeyError",
     "evalue": "'MOC'",
     "output_type": "error",
     "traceback": [
      "\u001b[1;31m---------------------------------------------------------------------------\u001b[0m",
      "\u001b[1;31mKeyError\u001b[0m                                  Traceback (most recent call last)",
      "Cell \u001b[1;32mIn[17], line 1\u001b[0m\n\u001b[1;32m----> 1\u001b[0m \u001b[38;5;28mprint\u001b[39m(\u001b[43mreactor_conditions\u001b[49m\u001b[43m[\u001b[49m\u001b[38;5;124;43m\"\u001b[39;49m\u001b[38;5;124;43mMOC\u001b[39;49m\u001b[38;5;124;43m\"\u001b[39;49m\u001b[43m]\u001b[49m)\n",
      "\u001b[1;31mKeyError\u001b[0m: 'MOC'"
     ]
    }
   ],
   "source": [
    "print(reactor_conditions[\"MOC\"])"
   ]
  },
  {
   "cell_type": "code",
   "execution_count": 18,
   "metadata": {},
   "outputs": [
    {
     "name": "stdout",
     "output_type": "stream",
     "text": [
      "SS\n",
      "\n",
      "Default pH: 7.0\n",
      "Reactor conditions: {'temperature': 303.15, 'pressure': 2.0, 'flow_rate': 100.0, 'is_running': True, 'catalyst': 'Platinum', 'MOC': 'SS'}\n"
     ]
    }
   ],
   "source": [
    "# You can't access a key that does not exist \n",
    "reactor_conditions[\"MOC\"] = \"SS\"\n",
    "print(reactor_conditions[\"MOC\"])\n",
    "\n",
    "# Safe way to get values\n",
    "pH = reactor_conditions.get(\"pH\", 7.0)  # Returns 7.0 if 'pH' not found\n",
    "print(\"\\nDefault pH:\", pH)\n",
    "print(\"Reactor conditions:\", reactor_conditions)"
   ]
  },
  {
   "cell_type": "code",
   "execution_count": 19,
   "metadata": {},
   "outputs": [
    {
     "name": "stdout",
     "output_type": "stream",
     "text": [
      "Reactor 1 temperature: 298.15\n",
      "Reactor 2 component A: 0.7\n",
      "\n",
      "Reactor names: ['reactor_1', 'reactor_2']\n",
      "Reactor 1 parameters: ['temperature', 'pressure', 'feed_composition']\n"
     ]
    }
   ],
   "source": [
    "# 2. Nested dictionaries\n",
    "plant_data = {\n",
    "    \"reactor_1\": {\n",
    "        \"temperature\": 298.15,\n",
    "        \"pressure\": 2.0,\n",
    "        \"feed_composition\": {\"A\": 0.6, \"B\": 0.4}\n",
    "    },\n",
    "    \"reactor_2\": {\n",
    "        \"temperature\": 303.15,\n",
    "        \"pressure\": 2.5,\n",
    "        \"feed_composition\": {\"A\": 0.7, \"B\": 0.3}\n",
    "    }\n",
    "}\n",
    "\n",
    "# Accessing nested data\n",
    "r1_temp = plant_data[\"reactor_1\"][\"temperature\"]\n",
    "r2_comp_A = plant_data[\"reactor_2\"][\"feed_composition\"][\"A\"]\n",
    "\n",
    "print(\"Reactor 1 temperature:\", r1_temp)\n",
    "print(\"Reactor 2 component A:\", r2_comp_A)\n",
    "\n",
    "# Dictionary methods\n",
    "print(\"\\nReactor names:\", list(plant_data.keys()))\n",
    "print(\"Reactor 1 parameters:\", list(plant_data[\"reactor_1\"].keys()))"
   ]
  },
  {
   "cell_type": "markdown",
   "metadata": {},
   "source": [
    "<hr id=\"5\">\n",
    "<h3> 5. Functions and Arguments </h3>\n",
    "\n",
    "Functions help us organize and reuse code. There are two main ways to pass arguments to functions:\n",
    "\n",
    "1. **Positional Arguments**: Order matters\n",
    "2. **Keyword Arguments**: Order doesn't matter, uses parameter names"
   ]
  },
  {
   "cell_type": "code",
   "execution_count": 41,
   "metadata": {},
   "outputs": [
    {
     "name": "stdout",
     "output_type": "stream",
     "text": [
      "Pressure drop (positional args): 40000.0 Pa\n",
      "Pressure drop (keyword args): 39920.0 Pa\n"
     ]
    }
   ],
   "source": [
    "def calculate_pressure_drop(length, diameter, velocity, density=1000.0, friction_factor=0.02):\n",
    "    \"\"\"Calculate pressure drop in a pipe using Darcy-Weisbach equation.\n",
    "    \n",
    "    Args:\n",
    "        length (float): Pipe length in meters\n",
    "        diameter (float): Pipe diameter in meters\n",
    "        velocity (float): Fluid velocity in m/s\n",
    "        density (float, optional): Fluid density in kg/m³. Defaults to 1000.0\n",
    "        friction_factor (float, optional): Friction factor. Defaults to 0.02\n",
    "    \"\"\"\n",
    "    pressure_drop = friction_factor * (length/diameter) * density * (velocity**2) / 2\n",
    "    return pressure_drop\n",
    "\n",
    "# Using positional arguments (order matters)\n",
    "dp1 = calculate_pressure_drop(100, 0.1, 2.0)\n",
    "print(\"Pressure drop (positional args):\", dp1, \"Pa\")\n",
    "\n",
    "# Using keyword arguments (order doesn't matter)\n",
    "dp2 = calculate_pressure_drop(velocity=2.0, \n",
    "                            diameter=0.1, \n",
    "                            length=100, \n",
    "                            density=998)\n",
    "print(\"Pressure drop (keyword args):\", dp2, \"Pa\")"
   ]
  },
  {
   "cell_type": "markdown",
   "metadata": {},
   "source": [
    "<hr id=\"6\">\n",
    "<h3> 6. Classes and Methods </h3>\n",
    "\n",
    "Classes help us organize related data and functions. Think of a class as a blueprint for creating objects.\n",
    "\n",
    "Example: A simple reactor class"
   ]
  },
  {
   "cell_type": "code",
   "execution_count": 20,
   "metadata": {},
   "outputs": [
    {
     "name": "stdout",
     "output_type": "stream",
     "text": [
      "Reactor started at 323.15K\n",
      "Temperature changed to 333.15K\n",
      "Reactor stopped\n"
     ]
    }
   ],
   "source": [
    "class Reactor:\n",
    "    def __init__(self, volume, temperature=298.15):\n",
    "        \"\"\"Initialize a reactor.\n",
    "        \n",
    "        Args:\n",
    "            volume (float): Reactor volume in m³\n",
    "            temperature (float, optional): Operating temperature in K\n",
    "        \"\"\"\n",
    "        self.volume = volume\n",
    "        self.temperature = temperature\n",
    "        self.is_running = False\n",
    "    \n",
    "    def start(self):\n",
    "        \"\"\"Start the reactor.\"\"\"\n",
    "        self.is_running = True\n",
    "        print(f\"Reactor started at {self.temperature}K\")\n",
    "    \n",
    "    def stop(self):\n",
    "        \"\"\"Stop the reactor.\"\"\"\n",
    "        self.is_running = False\n",
    "        print(\"Reactor stopped\")\n",
    "    \n",
    "    def change_temperature(self, new_temp):\n",
    "        \"\"\"Change reactor temperature.\n",
    "        \n",
    "        Args:\n",
    "            new_temp (float): New temperature in K\n",
    "        \"\"\"\n",
    "        self.temperature = new_temp\n",
    "        print(f\"Temperature changed to {new_temp}K\")\n",
    "\n",
    "# Create a reactor object\n",
    "reactor1 = Reactor(volume=5.0, temperature=323.15)\n",
    "\n",
    "# Use reactor methods\n",
    "reactor1.start()\n",
    "reactor1.change_temperature(333.15)\n",
    "reactor1.stop()"
   ]
  }
 ],
 "metadata": {
  "kernelspec": {
   "display_name": "Python 3",
   "language": "python",
   "name": "python3"
  },
  "language_info": {
   "codemirror_mode": {
    "name": "ipython",
    "version": 3
   },
   "file_extension": ".py",
   "mimetype": "text/x-python",
   "name": "python",
   "nbconvert_exporter": "python",
   "pygments_lexer": "ipython3",
   "version": "3.13.2"
  }
 },
 "nbformat": 4,
 "nbformat_minor": 2
}
