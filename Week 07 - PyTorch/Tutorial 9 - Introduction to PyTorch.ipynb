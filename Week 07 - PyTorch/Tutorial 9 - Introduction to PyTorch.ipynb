{
 "cells": [
  {
   "cell_type": "markdown",
   "metadata": {},
   "source": [
    "# Tutorial 9: Introduction to PyTorch\n",
    "\n",
    "## Objectives\n",
    "\n",
    "After this tutorial you will be able to:\n",
    "\n",
    "*   Know what the Object-Oriented Programming (OOP) approach is and use it to write your code\n",
    "*   Understanding the core principles of PyTorch for building and training machine learning models\n",
    "*   Build your first neural network using PyTorch"
   ]
  },
  {
   "cell_type": "markdown",
   "metadata": {},
   "source": [
    "<h2>Table of Contents</h2>\n",
    "\n",
    "<ol>\n",
    "    <li>\n",
    "        <a href=\"#1\">Quick review of Object-Oriented Programming (OOP)</a>\n",
    "    </li>\n",
    "    <br>\n",
    "    <li>\n",
    "        <a href=\"#2\">Introduction to PyTorch</a>\n",
    "    </li>\n",
    "    <br>\n",
    "    <li>\n",
    "        <a href=\"#3\">Building a simple linear regression model</a>\n",
    "    </li>\n",
    "    <br>\n",
    "    <li>\n",
    "        <a href=\"#4\">Building our first neural network using PyTorch</a>\n",
    "    </li>\n",
    "    <br>\n",
    "</ol>\n"
   ]
  },
  {
   "cell_type": "markdown",
   "metadata": {},
   "source": [
    "<hr id=\"1\">\n",
    "<h2>1. Quick reivew of Object-Oriented Programming (OOP)</h2>\n"
   ]
  },
  {
   "cell_type": "markdown",
   "metadata": {},
   "source": [
    "\n",
    "Object-oriented programming is a programming approach where we organize our code around objects. An object is like a container that holds both data and the operations or behaviors that can be performed on that data. We can think of objects as real-world entities (like a person, a car, or a bank account) that have certain characteristics (data) and can do certain things (methods).  \n",
    "  \n",
    "Objects are created from blueprints (templates) called `classes`, which define their characteristics and behaviors.  \n",
    "  \n",
    "We can abstract the above example using OOP by first creating the `class` (blueprint/template) that defines the data/attributes/properties and the behaviour/methods as follows:"
   ]
  },
  {
   "cell_type": "code",
   "execution_count": 1,
   "metadata": {},
   "outputs": [],
   "source": [
    "# create rectangle class\n",
    "class Rectangle:\n",
    "    # a constructor that defines the properties of a rectangle object\n",
    "    # the \"self\" keyword is a reference to the initialized object\n",
    "    def __init__(self, length, width):\n",
    "        self.length = length\n",
    "        self.width = width\n",
    "\n",
    "    # a method to calculate the area of a rectangle\n",
    "    def calculate_area(self):\n",
    "        return self.length * self.width\n"
   ]
  },
  {
   "cell_type": "markdown",
   "metadata": {},
   "source": [
    "Now we can use the above class as a template for creating rectangle objects that have the following **properties**:\n",
    "- `length`\n",
    "- `width`\n",
    "\n",
    "And the following built-in **methods** (functions):\n",
    "- `calculate_area()`"
   ]
  },
  {
   "cell_type": "code",
   "execution_count": 2,
   "metadata": {},
   "outputs": [],
   "source": [
    "# create rectangle 1 object\n",
    "rect1 = Rectangle(10, 5)\n",
    "\n",
    "# create rectangle 2 object\n",
    "rect2 = Rectangle(4, 3)"
   ]
  },
  {
   "cell_type": "markdown",
   "metadata": {},
   "source": [
    "To access a `property` of an object, we use the dot notation WITHOUT parenthesis"
   ]
  },
  {
   "cell_type": "code",
   "execution_count": 3,
   "metadata": {},
   "outputs": [
    {
     "name": "stdout",
     "output_type": "stream",
     "text": [
      "length of rectangle 1:  10\n",
      "length of rectangle 2:  4\n"
     ]
    }
   ],
   "source": [
    "# print the length of each rectangle\n",
    "print('length of rectangle 1: ', rect1.length)\n",
    "print('length of rectangle 2: ', rect2.length)"
   ]
  },
  {
   "cell_type": "markdown",
   "metadata": {},
   "source": [
    "To access a `method` of an object, we use the dot notation and call the required method/function (i.e. using parenthesis)"
   ]
  },
  {
   "cell_type": "code",
   "execution_count": 4,
   "metadata": {},
   "outputs": [
    {
     "name": "stdout",
     "output_type": "stream",
     "text": [
      "area of rectangle 1:  50\n",
      "area of rectangle 2:  12\n"
     ]
    }
   ],
   "source": [
    "# calculate the area of each rectangle\n",
    "rect1_area = rect1.calculate_area()  # calculate_rect_area(rect1)\n",
    "rect2_area = rect2.calculate_area()\n",
    "\n",
    "# compare areas of rectangles\n",
    "print('area of rectangle 1: ', rect1_area)\n",
    "print('area of rectangle 2: ', rect2_area)"
   ]
  },
  {
   "cell_type": "markdown",
   "metadata": {},
   "source": [
    "Class inheritance allows you to create new classes (subclasses) that inherit properties and methods from existing classes (parent classes).  \n",
    "The parent class is referred to as `super` class.  \n",
    "\n",
    "For example, if we need to create a square class that only requires one side to be defined by the user, we can create a sub-class from the `Rectangle` class."
   ]
  },
  {
   "cell_type": "code",
   "execution_count": 5,
   "metadata": {},
   "outputs": [],
   "source": [
    "# create a square class that inherits from the rectangle class\n",
    "class Square(Rectangle):\n",
    "    # a constructor that defines the properties of a square object\n",
    "    def __init__(self, side):\n",
    "        # initialize the parent class\n",
    "        super().__init__(side, side)\n",
    "        # we can add any additional properties that are specific to a square below (inside this constructor method)\n",
    "        self.side = side\n",
    "\n",
    "    # create a perimeter method\n",
    "    def calculate_perimeter(self):\n",
    "        return 4 * self.length"
   ]
  },
  {
   "cell_type": "markdown",
   "metadata": {},
   "source": [
    "Now let's test our new square class."
   ]
  },
  {
   "cell_type": "code",
   "execution_count": 6,
   "metadata": {},
   "outputs": [
    {
     "name": "stdout",
     "output_type": "stream",
     "text": [
      "area of square 1:  25\n",
      "perimeter of square 1:  20\n",
      "side of square 1:  5\n"
     ]
    }
   ],
   "source": [
    "# create a square object\n",
    "square1 = Square(5)\n",
    "\n",
    "# calculate the area of the square\n",
    "square1_area = square1.calculate_area()\n",
    "print('area of square 1: ', square1_area)\n",
    "\n",
    "# calculate the perimeter of the square\n",
    "square1_perimeter = square1.calculate_perimeter()\n",
    "print('perimeter of square 1: ', square1_perimeter)\n",
    "\n",
    "# print the length of the square\n",
    "print('side of square 1: ', square1.side)"
   ]
  },
  {
   "cell_type": "markdown",
   "metadata": {},
   "source": [
    "<hr id=\"2\">\n",
    "<h2>2. Introduction to <strong>PyTorch</strong></h2>\n"
   ]
  },
  {
   "cell_type": "markdown",
   "metadata": {},
   "source": [
    "### PyTorch\n",
    "PyTorch provides a versatile and user-friendly platform for building and deploying state-of-the-art machine learning models in Python.  \n",
    "Its dynamic nature and active community make it a popular choice for both beginners and experienced practitioners.\n",
    "\n",
    "### Tensors\n",
    "Tensors are a core PyTorch data type, similar to a multidimensional array, used to store and manipulate the inputs and outputs of a model, as well as the model’s parameters. Tensors are similar to NumPy’s ndarrays, except that tensors can run on GPUs to accelerate computing.\n",
    "\n",
    "<div style=\"text-align: center; margin:2rem;\">\n",
    "    <img src=\"tensor.jpg\">\n",
    "    <br>\n",
    "    <small>*source: <a href=\"https://hadrienj.github.io/posts/Deep-Learning-Book-Series-2.1-Scalars-Vectors-Matrices-and-Tensors/\">https://hadrienj.github.io/posts/Deep-Learning-Book-Series-2.1-Scalars-Vectors-Matrices-and-Tensors/</a></small>\n",
    "</div>\n",
    "\n",
    "### Installation\n",
    "To install **pyTorch** run the following command in terminal:  \n",
    "`pip install torch`"
   ]
  },
  {
   "cell_type": "markdown",
   "metadata": {},
   "source": [
    "<hr id=\"3\">\n",
    "<h2>3. Building a simple linear regression model</h2>\n"
   ]
  },
  {
   "cell_type": "markdown",
   "metadata": {},
   "source": [
    "Let's first import necessary libraries"
   ]
  },
  {
   "cell_type": "code",
   "execution_count": 7,
   "metadata": {},
   "outputs": [],
   "source": [
    "import numpy as np\n",
    "import torch\n",
    "import torch.nn as nn"
   ]
  },
  {
   "cell_type": "markdown",
   "metadata": {},
   "source": [
    "In `PyTorch` to build a machine learning model, we build a `sub-class` of the `nn.Module` class.  \n",
    "Then we build a special method called `forward` that defines how the model calculates the `output` from the `input` (model structure)."
   ]
  },
  {
   "cell_type": "code",
   "execution_count": 8,
   "metadata": {},
   "outputs": [],
   "source": [
    "# build a simple linear regression model\n",
    "class LR(nn.Module):\n",
    "    def __init__(self, input_dim):\n",
    "        # initialize the parent class (nn.Module)\n",
    "        super().__init__()\n",
    "\n",
    "        # define the model architecture\n",
    "        self.input_dim = input_dim\n",
    "        self.linear = nn.Linear(input_dim, 1)\n",
    "\n",
    "    # define the forward pass\n",
    "    def forward(self, x):\n",
    "        y = self.linear(x)\n",
    "        return y\n",
    "\n",
    "    # define the training method\n",
    "    def fit(self, x, y, epochs, learning_rate=0.01):\n",
    "        # define the loss function\n",
    "        loss_fn = nn.MSELoss()\n",
    "\n",
    "        # define the optimizer\n",
    "        optimizer = torch.optim.Adam(self.parameters(), lr=learning_rate)\n",
    "\n",
    "        # train the model\n",
    "        for epoch in range(epochs):\n",
    "            # 1. clear the gradients\n",
    "            optimizer.zero_grad()\n",
    "\n",
    "            # 2. compute the model output (prediction)\n",
    "            y_pred = self.forward(x)\n",
    "\n",
    "            # 3. calculate loss\n",
    "            loss = loss_fn(y_pred, y)\n",
    "\n",
    "            # 4. backpropagation\n",
    "            loss.backward()\n",
    "\n",
    "            # 5. update model weights\n",
    "            optimizer.step()\n",
    "\n",
    "            # print the loss every 100 epochs\n",
    "            if epoch % 100 == 0:\n",
    "                print('epoch {}/{}, loss {:.4f}'.format(epoch, epochs, loss.item()))"
   ]
  },
  {
   "cell_type": "markdown",
   "metadata": {},
   "source": [
    "The above class can be used to create and train a linear regression model/object.  \n",
    "For illustartion purposes, let's create a very simple linear model:  \n",
    "\n",
    "$$ y = 2x + 5 $$"
   ]
  },
  {
   "cell_type": "code",
   "execution_count": 9,
   "metadata": {},
   "outputs": [
    {
     "name": "stdout",
     "output_type": "stream",
     "text": [
      "epoch 0/1000, loss 178.8479\n",
      "epoch 100/1000, loss 1.6398\n",
      "epoch 200/1000, loss 0.3869\n",
      "epoch 300/1000, loss 0.0543\n",
      "epoch 400/1000, loss 0.0047\n",
      "epoch 500/1000, loss 0.0003\n",
      "epoch 600/1000, loss 0.0000\n",
      "epoch 700/1000, loss 0.0000\n",
      "epoch 800/1000, loss 0.0000\n",
      "epoch 900/1000, loss 0.0000\n",
      "Slope: 2.00\n",
      "Intercept: 5.00\n"
     ]
    }
   ],
   "source": [
    "# create a simple dataset for training\n",
    "# y = 2x + 5\n",
    "x = np.array([1, 2, 3, 4, 5, 6, 7, 8, 9, 10])\n",
    "y = 2 * x + 5\n",
    "\n",
    "# convert the input and output to torch tensors\n",
    "x = torch.from_numpy(x).float().reshape(-1, 1)\n",
    "y = torch.from_numpy(y).float().reshape(-1, 1)\n",
    "\n",
    "# create a model\n",
    "model = LR(1)\n",
    "\n",
    "# train the model\n",
    "model.fit(x, y, 1000, 0.1)\n",
    "\n",
    "# print the model parameters\n",
    "print('Slope: {:.2f}'.format(model.linear.weight.item()))\n",
    "print('Intercept: {:.2f}'.format(model.linear.bias.item()))\n",
    "\n"
   ]
  },
  {
   "cell_type": "markdown",
   "metadata": {},
   "source": [
    "<hr id=\"4\">\n",
    "<h2>4. Building our first neural network using PyTorch</h2>"
   ]
  },
  {
   "cell_type": "markdown",
   "metadata": {},
   "source": [
    "We will build a very simple shallow (1 hidden layer) neural network like the following:\n",
    "\n",
    "<div style=\"text-align: center; margin:2rem;\">\n",
    "    <img src=\"nn.png\">\n",
    "    <br>\n",
    "</div>\n"
   ]
  },
  {
   "cell_type": "code",
   "execution_count": 10,
   "metadata": {},
   "outputs": [],
   "source": [
    "# create neural network class\n",
    "class NN(nn.Module):\n",
    "    # define the class constructor\n",
    "    def __init__(self, n_input, n_output, n_hidden, act_fn=nn.Tanh()):\n",
    "        # initialize the super/parent class (nn.Module)\n",
    "        super().__init__()\n",
    "\n",
    "        # assign the activation function\n",
    "        self.act_fn = act_fn\n",
    "\n",
    "        # create the first hidden layer connected to the inputs\n",
    "        self.nn_start = nn.Linear(n_input, n_hidden)\n",
    "\n",
    "        # create the output layer\n",
    "        self.nn_end = nn.Linear(n_hidden, n_output)\n",
    "\n",
    "    # define the forward pass of the network\n",
    "    def forward(self, x):\n",
    "        # 1. input layer > hidden layer\n",
    "        x = self.nn_start(x)\n",
    "        # 2. activation function\n",
    "        x = self.act_fn(x)\n",
    "        # 3. hidden layer > output layer\n",
    "        y = self.nn_end(x)\n",
    "        return y\n",
    "\n",
    "    # define the fit method\n",
    "    def fit(self, X, y, n_epochs, lr=0.01):\n",
    "        # define the optimizer and the loss function\n",
    "        optimizer = torch.optim.Adam(self.parameters(), lr=lr)\n",
    "        loss_fn = nn.MSELoss()\n",
    "\n",
    "        # train the model\n",
    "        for epoch in range(n_epochs+1):\n",
    "            # 1. reset the gradients back to zero\n",
    "            optimizer.zero_grad()\n",
    "\n",
    "            # 2. compute the output (prediction)\n",
    "            y_pred = self(X)\n",
    "\n",
    "            # 3. compute the loss\n",
    "            loss = loss_fn(y_pred, y)\n",
    "\n",
    "            # 4. backpropagate the loss\n",
    "            loss.backward()\n",
    "\n",
    "            # 5. update the model parameters\n",
    "            optimizer.step()\n",
    "\n",
    "            # print the loss every 100 epochs\n",
    "            if epoch % 100 == 0:\n",
    "                print('epoch {}/{}, loss {:.4f}'.format(epoch, n_epochs, loss.item()))\n",
    "\n",
    "    # define the predict method\n",
    "    def predict(self, X):\n",
    "        return self.forward(X).item()\n"
   ]
  },
  {
   "cell_type": "markdown",
   "metadata": {},
   "source": [
    "Now let's create a neural network model/object and train it on the same data from before"
   ]
  },
  {
   "cell_type": "code",
   "execution_count": 11,
   "metadata": {},
   "outputs": [
    {
     "name": "stdout",
     "output_type": "stream",
     "text": [
      "epoch 0/1000, loss 280.0525\n",
      "epoch 100/1000, loss 66.3482\n",
      "epoch 200/1000, loss 20.1437\n",
      "epoch 300/1000, loss 7.0871\n",
      "epoch 400/1000, loss 2.8617\n",
      "epoch 500/1000, loss 1.3671\n",
      "epoch 600/1000, loss 0.7403\n",
      "epoch 700/1000, loss 0.4347\n",
      "epoch 800/1000, loss 0.2671\n",
      "epoch 900/1000, loss 0.1691\n",
      "epoch 1000/1000, loss 0.1104\n"
     ]
    }
   ],
   "source": [
    "# create a neural network instance\n",
    "model = NN(1, 1, 10)\n",
    "\n",
    "# train the NN\n",
    "model.fit(x, y, 1000, 0.01)"
   ]
  },
  {
   "cell_type": "code",
   "execution_count": 12,
   "metadata": {},
   "outputs": [
    {
     "name": "stdout",
     "output_type": "stream",
     "text": [
      "prediction: 23.635822296142578\n"
     ]
    }
   ],
   "source": [
    "# make predictions\n",
    "x_test = torch.tensor([9.5]).reshape(-1, 1)\n",
    "y_pred = model.predict(x_test)\n",
    "print('prediction:', y_pred)"
   ]
  },
  {
   "cell_type": "markdown",
   "metadata": {},
   "source": [
    "<hr style=\"margin-top: 4rem;\">\n",
    "<h2>Author</h2>\n",
    "\n",
    "<a href=\"https://github.com/SamerHany\">Samer Hany</a>"
   ]
  },
  {
   "cell_type": "markdown",
   "metadata": {},
   "source": [
    "<h2>References</h2>\n",
    "\n",
    "* https://benmoseley.blog/my-research/so-what-is-a-physics-informed-neural-network/  \n",
    "* https://medium.com/@theo.wolf/physics-informed-neural-networks-a-simple-tutorial-with-pytorch-f28a890b874a"
   ]
  }
 ],
 "metadata": {
  "kernelspec": {
   "display_name": "Python 3",
   "language": "python",
   "name": "python3"
  },
  "language_info": {
   "codemirror_mode": {
    "name": "ipython",
    "version": 3
   },
   "file_extension": ".py",
   "mimetype": "text/x-python",
   "name": "python",
   "nbconvert_exporter": "python",
   "pygments_lexer": "ipython3",
   "version": "3.12.0"
  }
 },
 "nbformat": 4,
 "nbformat_minor": 2
}
